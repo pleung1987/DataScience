{
 "cells": [
  {
   "cell_type": "code",
   "execution_count": 110,
   "metadata": {
    "collapsed": true
   },
   "outputs": [],
   "source": [
    "import numpy as np\n",
    "import matplotlib.pyplot as plt"
   ]
  },
  {
   "cell_type": "code",
   "execution_count": 111,
   "metadata": {},
   "outputs": [],
   "source": [
    "np.random.seed(3) #to ensure we all have the same values. As long as a number is the same it generates that same value as ppl "
   ]
  },
  {
   "cell_type": "code",
   "execution_count": 112,
   "metadata": {},
   "outputs": [
    {
     "data": {
      "text/plain": [
       "array(['male', 'male', 'female', ..., 'female', 'male', 'female'], \n",
       "      dtype='|S6')"
      ]
     },
     "execution_count": 112,
     "metadata": {},
     "output_type": "execute_result"
    }
   ],
   "source": [
    "#creating the arrays...\n",
    "\n",
    "N=1000000 #number of people in dataset\n",
    "age = np.random.randint(12,95,N)\n",
    "weight = np.random.uniform(40,201,N)\n",
    "height = np.random.uniform(1.2,2.5,N)\n",
    "gender = np.random.choice([\"male\",\"female\"] ,N)\n",
    "    #[put the choices of \"strings\" in the square bracket]\n",
    "    \n",
    "# gender = np.random.randint(0,2,N)\n",
    "gender"
   ]
  },
  {
   "cell_type": "code",
   "execution_count": 113,
   "metadata": {},
   "outputs": [],
   "source": [
    "# using Pandas\n",
    "import pandas as pd\n",
    "df= pd.DataFrame()\n",
    "    #define variable df as dataframe function from pandas \n",
    "        #-> holds all our data in a dataframe structure\n",
    "\n",
    "        \n",
    "#creating the dataframes...\n",
    "\n",
    "df['age'] = age\n",
    "# age :hashtag all to see array\n",
    "#create a new column 'age' and insert age (the variable defined) into that column\n",
    "\n",
    "df['weight']= weight\n",
    "# weight\n",
    "\n",
    "df['height']= height\n",
    "# height\n",
    "\n",
    "df['gender']= gender\n",
    "# gender\n",
    "\n",
    "df\n",
    "# df will output the entire table\n",
    "\n",
    "#advanced: vectors operations \n",
    "#-> since we are using numpy it already knows to iterate function through the array\n",
    "def calculate_bmi(w,h):\n",
    "    bmi_list = w/(h**2)\n",
    "    return bmi_list\n",
    "  "
   ]
  },
  {
   "cell_type": "code",
   "execution_count": 114,
   "metadata": {},
   "outputs": [
    {
     "name": "stdout",
     "output_type": "stream",
     "text": [
      "0          31.267700\n",
      "1          32.788337\n",
      "2          38.889713\n",
      "3          41.129025\n",
      "4           9.983043\n",
      "5          10.628559\n",
      "6          32.032631\n",
      "7          50.843332\n",
      "8          19.149939\n",
      "9          82.831626\n",
      "10         35.321106\n",
      "11         43.138457\n",
      "12         15.946987\n",
      "13         18.681918\n",
      "14         22.710217\n",
      "15         11.076022\n",
      "16         54.126199\n",
      "17         69.176307\n",
      "18         45.770579\n",
      "19         13.549974\n",
      "20         34.883943\n",
      "21        123.072827\n",
      "22         52.178532\n",
      "23         62.250085\n",
      "24         25.628557\n",
      "25        103.621282\n",
      "26         70.574343\n",
      "27         16.427843\n",
      "28         25.813023\n",
      "29         33.287500\n",
      "             ...    \n",
      "999970     51.146736\n",
      "999971     25.051487\n",
      "999972     55.220681\n",
      "999973     15.094526\n",
      "999974     39.754114\n",
      "999975     30.574075\n",
      "999976     27.680534\n",
      "999977     28.319966\n",
      "999978     44.049203\n",
      "999979     60.747330\n",
      "999980     38.176727\n",
      "999981     26.225116\n",
      "999982     23.900510\n",
      "999983     23.365504\n",
      "999984     33.078956\n",
      "999985     74.101857\n",
      "999986     39.641645\n",
      "999987     54.900581\n",
      "999988     31.481295\n",
      "999989     23.122102\n",
      "999990     31.777085\n",
      "999991     35.262270\n",
      "999992     15.038630\n",
      "999993     36.754361\n",
      "999994     71.537412\n",
      "999995     62.273148\n",
      "999996     75.074885\n",
      "999997     33.598957\n",
      "999998     20.372461\n",
      "999999     81.803860\n",
      "Length: 1000000, dtype: float64\n"
     ]
    }
   ],
   "source": [
    "bmi = calculate_bmi(df['weight'], df['height']) \n",
    "#pass in the dataframe that panda created with weight and height to get bmi\n",
    "#asking the dataframe and naming the specific column we want, which is df['weight'] and df['height']\n",
    "#we want to dataframe version of weight and height, transfer the last code in pandas way instead of the numpy way\n",
    "print(bmi)"
   ]
  },
  {
   "cell_type": "code",
   "execution_count": 115,
   "metadata": {},
   "outputs": [
    {
     "ename": "SyntaxError",
     "evalue": "invalid syntax (<ipython-input-115-910e547aad23>, line 1)",
     "output_type": "error",
     "traceback": [
      "\u001b[0;36m  File \u001b[0;32m\"<ipython-input-115-910e547aad23>\"\u001b[0;36m, line \u001b[0;32m1\u001b[0m\n\u001b[0;31m    'df['bmi']'= bmi\u001b[0m\n\u001b[0m           ^\u001b[0m\n\u001b[0;31mSyntaxError\u001b[0m\u001b[0;31m:\u001b[0m invalid syntax\n"
     ]
    }
   ],
   "source": [
    "'df['bmi']'= bmi\n",
    "#add on new column after creating bmi in df format\n",
    "df"
   ]
  },
  {
   "cell_type": "code",
   "execution_count": null,
   "metadata": {},
   "outputs": [],
   "source": [
    "#using Pandas function to create bodyCondition and count the number of condition...\n",
    "\n",
    "underweight= len(df[ df['bmi'] <= 18.5 ])\n",
    "\n",
    "# # asking your dataframe to create a filter of bmi less than 18.5\n",
    "#     #counts the number of underweight\n",
    "#     #always make sure to call the dataframe twice by:      df[ df['bmi'] <= 18.5 ] \n",
    "#                             #-> selecting a subset and storing it at variable: underweight\n",
    "        \n",
    "normal = len( df[ (df['bmi']>18.5) & (df['bmi']<25.0) ])\n",
    "\n",
    "\n",
    "        \n",
    "overweight = len( df[ (df['bmi'] >= 25.0) & (df['bmi'] <30.0) ])\n",
    "\n",
    "\n",
    "        \n",
    "obese= len(df[ df['bmi'] >= 30 ])\n",
    "\n",
    "underweight+ normal+ overweight + obese == N\n",
    "    # to verify if all numbers added up together equals to the dataset quantity you assigned\n",
    "    # if output = True then you it is verified all data are used up properly\n",
    "\n",
    "\n",
    "# old Code...\n",
    "# def bodyCondition(_bmi):\n",
    "#     cnd= \"\"\n",
    "#     if _bmi <= 18.5:\n",
    "#         cnd= 0\n",
    "#     elif _bmi > 18.5 and _bmi <25.0:\n",
    "#         cnd = 1\n",
    "#     elif _bmi >= 25.0 and _bmi <30.0:\n",
    "#         cnd = 2\n",
    "#     elif _bmi > 30:\n",
    "#         cnd = 3\n",
    "#     else: \n",
    "#         print \"input error\"\n",
    "#     return cnd"
   ]
  },
  {
   "cell_type": "code",
   "execution_count": null,
   "metadata": {},
   "outputs": [],
   "source": [
    "# old codes...\n",
    "\n",
    "#return person body's condition\n",
    "# bodyCnd = bodyCondition(bmi[0])\n",
    "# print(bodyCnd)"
   ]
  },
  {
   "cell_type": "code",
   "execution_count": null,
   "metadata": {
    "collapsed": true
   },
   "outputs": [],
   "source": [
    "# old codes...\n",
    "\n",
    "# def groupOfPeople():\n",
    "#     under = 0\n",
    "#     normal = 0\n",
    "#     over = 0\n",
    "#     obe = 0\n",
    "#     for i in range(len(bmi)):\n",
    "#         bc = bodyCondition(bmi[i])\n",
    "#         print \"bmi =\", bmi[i]\n",
    "#         print 'bc =', bc\n",
    "#         print 'age=', age[i]\n",
    "#         if bc == 0:\n",
    "#             under += 1\n",
    "#             print \"result: BMI Underweight\"\n",
    "#         elif bc == 1:\n",
    "#             normal += 1\n",
    "#             print \"result: BMI Normal\"\n",
    "#         elif bc == 2:\n",
    "#             over += 1\n",
    "#             print \"result: BMI Overweight\"\n",
    "#         elif bc == 3:\n",
    "#             obe += 1\n",
    "#             print \"result: BMI Obese\"\n",
    "#         print \"=======================\"\n",
    "    \n",
    "#     #sum results\n",
    "#     rest = []\n",
    "#     rest.append(under)\n",
    "#     rest.append(normal)\n",
    "#     rest.append(over)\n",
    "#     rest.append(obe)\n",
    "#     return rest"
   ]
  },
  {
   "cell_type": "code",
   "execution_count": null,
   "metadata": {},
   "outputs": [],
   "source": [
    "#old code...\n",
    "# r= groupOfPeople()\n"
   ]
  },
  {
   "cell_type": "code",
   "execution_count": null,
   "metadata": {},
   "outputs": [],
   "source": [
    "#plotting the results into a bar graph...\n",
    "# cat= np.arange(4) #number of categories\n",
    "labels = [\"underweight\", \"normal\", \"overweight\",\"obese\"]\n",
    "x = [1,2,3,4]\n",
    "y = [underweight, normal, overweight, obese]\n",
    "plt.bar(x, y ,0.8)\n",
    "plt.xticks(x,labels)\n",
    "plt.title(\"BMI Distribution\")\n",
    "plt.ylabel('number of People')\n",
    "plt.xlabel('BMI Group')\n",
    "plt.show()"
   ]
  },
  {
   "cell_type": "code",
   "execution_count": null,
   "metadata": {},
   "outputs": [],
   "source": [
    "#make sure the csv file is the same file as your jupyter notbook folder\n",
    "\n",
    "tesla = pd.read_csv('TSLA.csv', index_col=0, parse_dates= True)  \n",
    "#index_col=0 tells the index to be at location 0 (which is date to be the x-axis),\n",
    "#parse_dates tells pandas to make the date format normal\n",
    "tesla"
   ]
  },
  {
   "cell_type": "code",
   "execution_count": 117,
   "metadata": {},
   "outputs": [
    {
     "data": {
      "image/png": "[encoded data removed]",
      "text/plain": [
       "<matplotlib.figure.Figure at 0x1182a1350>"
      ]
     },
     "metadata": {},
     "output_type": "display_data"
    }
   ],
   "source": [
    "tesla.plot(y ='Adj Close')\n",
    "#pandas comes with its own plot function\n",
    "plt.show()"
   ]
  },
  {
   "cell_type": "code",
   "execution_count": 116,
   "metadata": {},
   "outputs": [
    {
     "data": {
      "image/png": "[encoded data removed]",
      "text/plain": [
       "<matplotlib.figure.Figure at 0x11e157b10>"
      ]
     },
     "metadata": {},
     "output_type": "display_data"
    }
   ],
   "source": [
    "tesla.plot(y ='Close')\n",
    "#pandas comes with its own plot function\n",
    "plt.show()"
   ]
  },
  {
   "cell_type": "code",
   "execution_count": null,
   "metadata": {
    "collapsed": true
   },
   "outputs": [],
   "source": []
  }
 ],
 "metadata": {
  "kernelspec": {
   "display_name": "Python 2",
   "language": "python",
   "name": "python2"
  },
  "language_info": {
   "codemirror_mode": {
    "name": "ipython",
    "version": 2
   },
   "file_extension": ".py",
   "mimetype": "text/x-python",
   "name": "python",
   "nbconvert_exporter": "python",
   "pygments_lexer": "ipython2",
   "version": "2.7.13"
  }
 },
 "nbformat": 4,
 "nbformat_minor": 2
}
