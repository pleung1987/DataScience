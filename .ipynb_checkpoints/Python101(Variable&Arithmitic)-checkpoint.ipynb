{
 "cells": [
  {
   "cell_type": "markdown",
   "metadata": {},
   "source": [
    "# Python Fundamentals"
   ]
  },
  {
   "cell_type": "markdown",
   "metadata": {},
   "source": [
    "\n",
    "## Variables & Arithmetic\n",
    "Whatever you're coding, you will need places to store different types of data. The most basic way to store data is through variables. "
   ]
  },
  {
   "cell_type": "code",
   "execution_count": 2,
   "metadata": {
    "collapsed": true
   },
   "outputs": [],
   "source": [
    "# Here, we are declaring a variable with the name x and storing it with the integer value 10\n",
    "x = 10 "
   ]
  },
  {
   "cell_type": "code",
   "execution_count": 3,
   "metadata": {},
   "outputs": [
    {
     "name": "stdout",
     "output_type": "stream",
     "text": [
      "10\n"
     ]
    }
   ],
   "source": [
    "#You can check what the value of a variable is by simply printing it in the following manner\n",
    "print x"
   ]
  },
  {
   "cell_type": "code",
   "execution_count": 4,
   "metadata": {},
   "outputs": [
    {
     "name": "stdout",
     "output_type": "stream",
     "text": [
      "1 2\n"
     ]
    }
   ],
   "source": [
    "#You can also declare multiple variables as shown:\n",
    "x,y = 1,2\n",
    "print x,y"
   ]
  },
  {
   "cell_type": "code",
   "execution_count": null,
   "metadata": {
    "collapsed": true
   },
   "outputs": [],
   "source": [
    "# You can store differnt types of data in variables, as shown in the examples below.\n",
    "\n",
    "y = 2.3 #This is called a float type, where you can store decimals\n",
    "print y\n",
    "\n",
    "z = \"This is z!\" #You can also store strings in a variable, by putting them in between single or double quotations\n",
    "print z"
   ]
  },
  {
   "cell_type": "code",
   "execution_count": null,
   "metadata": {
    "collapsed": true
   },
   "outputs": [],
   "source": [
    "#It is easy to concatenate (or combine) strings with each other\n",
    "\n",
    "hello = \"Hello\"\n",
    "world = \"World\"\n",
    "helloworld = hello + \" \" + world\n",
    "print helloworld"
   ]
  },
  {
   "cell_type": "markdown",
   "metadata": {},
   "source": [
    "\n",
    "You can also perform arithmetic using numerical variables. \n",
    "\n",
    "### Addition\n"
   ]
  },
  {
   "cell_type": "code",
   "execution_count": null,
   "metadata": {
    "collapsed": true
   },
   "outputs": [],
   "source": [
    "10 + 10"
   ]
  },
  {
   "cell_type": "code",
   "execution_count": null,
   "metadata": {
    "collapsed": true
   },
   "outputs": [],
   "source": [
    "x = 1\n",
    "print x + 2\n",
    "\n",
    "x= x+3\n",
    "print x"
   ]
  },
  {
   "cell_type": "markdown",
   "metadata": {},
   "source": [
    "### Multiplication\n",
    "To multiply numbers or variables in Python, you can simply use this symbol: *"
   ]
  },
  {
   "cell_type": "code",
   "execution_count": null,
   "metadata": {
    "collapsed": true
   },
   "outputs": [],
   "source": [
    "x = 5 \n",
    "\n",
    "print x*2"
   ]
  },
  {
   "cell_type": "markdown",
   "metadata": {},
   "source": [
    "### Division\n",
    "For division, Python uses /"
   ]
  },
  {
   "cell_type": "code",
   "execution_count": null,
   "metadata": {
    "collapsed": true
   },
   "outputs": [],
   "source": [
    "x = 10\n",
    "print x / 5"
   ]
  },
  {
   "cell_type": "code",
   "execution_count": null,
   "metadata": {
    "collapsed": true
   },
   "outputs": [],
   "source": [
    "#Note that Python will only give back integers unless otherwise specified.\n",
    "\n",
    "print 10/3 #Even though the answer should be a decimal (called a float in Python), it gives you back integers"
   ]
  },
  {
   "cell_type": "code",
   "execution_count": null,
   "metadata": {
    "collapsed": true
   },
   "outputs": [],
   "source": [
    "print 10.0/3 # You need to specify by diving 10.0, not 10."
   ]
  },
  {
   "cell_type": "code",
   "execution_count": null,
   "metadata": {
    "collapsed": true
   },
   "outputs": [],
   "source": [
    "# If you are working with floating variables, you can declare them as following:\n",
    "\n",
    "x = 10.0\n",
    "\n",
    "#Have an integer you want to convert to a float?\n",
    "\n",
    "y = 1\n",
    "print y\n",
    "\n",
    "y = float(y)\n",
    "print y\n"
   ]
  },
  {
   "cell_type": "markdown",
   "metadata": {},
   "source": [
    "### Exponents\n",
    "\n",
    "Raising numbers to a power is easy in Python. Simply use the double asterix: **"
   ]
  },
  {
   "cell_type": "code",
   "execution_count": null,
   "metadata": {
    "collapsed": true
   },
   "outputs": [],
   "source": [
    "5**10"
   ]
  },
  {
   "cell_type": "code",
   "execution_count": null,
   "metadata": {
    "collapsed": true
   },
   "outputs": [],
   "source": [
    "x = 2\n",
    "y = 8\n",
    "print x**y\n",
    "print y**x"
   ]
  },
  {
   "cell_type": "markdown",
   "metadata": {},
   "source": [
    "## Lists, Tuples & Dictionaries\n",
    "\n",
    "These are the other three major types of data structures in Python. \n"
   ]
  },
  {
   "cell_type": "code",
   "execution_count": 6,
   "metadata": {},
   "outputs": [
    {
     "name": "stdout",
     "output_type": "stream",
     "text": [
      "[1, 2, 3]\n",
      "['a', 'b', 'c']\n"
     ]
    }
   ],
   "source": [
    "# Lists are just a collection of objects (strings/integers/floats) and are declared using []\n",
    "\n",
    "empty_list = [] #This is how you declare an empty list\n",
    "\n",
    "x = [1,2,3]\n",
    "print x\n",
    "\n",
    "y = [\"a\",\"b\",\"c\"]\n",
    "print y"
   ]
  },
  {
   "cell_type": "code",
   "execution_count": null,
   "metadata": {
    "collapsed": true
   },
   "outputs": [],
   "source": [
    "# Lists have an index that can be used to get items from it\n",
    " \n",
    "x[0] # Note that the first element is not at index 1, but at index 0. In Python, indexes go from 0 -->(n-1)"
   ]
  },
  {
   "cell_type": "code",
   "execution_count": null,
   "metadata": {
    "collapsed": true
   },
   "outputs": [],
   "source": [
    "# You can also slice things out of a list by using the indexes as follows\n",
    "\n",
    "x[0:2] #Note that the last index is not included. "
   ]
  },
  {
   "cell_type": "code",
   "execution_count": null,
   "metadata": {
    "collapsed": true
   },
   "outputs": [],
   "source": [
    "y[1:3]"
   ]
  },
  {
   "cell_type": "code",
   "execution_count": 8,
   "metadata": {},
   "outputs": [
    {
     "data": {
      "text/plain": [
       "[1, 4, 3]"
      ]
     },
     "execution_count": 8,
     "metadata": {},
     "output_type": "execute_result"
    }
   ],
   "source": [
    "#Items in a list can also be changed. For example, if you want to change the second element in the list x to 4:\n",
    "\n",
    "x[1]=4 \n",
    "x"
   ]
  },
  {
   "cell_type": "code",
   "execution_count": 10,
   "metadata": {},
   "outputs": [
    {
     "data": {
      "text/plain": [
       "[1, 4, 3, 4]"
      ]
     },
     "execution_count": 10,
     "metadata": {},
     "output_type": "execute_result"
    }
   ],
   "source": [
    "#You can also add to lists by using the .append() function\n",
    "\n",
    "x.append(5)\n",
    "x"
   ]
  },
  {
   "cell_type": "code",
   "execution_count": null,
   "metadata": {
    "collapsed": true
   },
   "outputs": [],
   "source": [
    "# You can also change/remove elements from a list. \n",
    "\n",
    "x = [1,2,3] \n",
    "x[0] = 0 #This changes the item at the 0th index of the list to 0. "
   ]
  },
  {
   "cell_type": "code",
   "execution_count": null,
   "metadata": {
    "collapsed": true
   },
   "outputs": [],
   "source": [
    "#Removing items is simple! You have two ways of acheiving that. \n",
    "\n",
    "y = ['a','b','c']\n",
    "\n",
    "del y[1] #Removes the item at the 1st index\n",
    "\n",
    "y.pop(0) #The pop function also does the same thing, but has different syntax and way of doing it. "
   ]
  },
  {
   "cell_type": "code",
   "execution_count": 11,
   "metadata": {},
   "outputs": [
    {
     "data": {
      "text/plain": [
       "4"
      ]
     },
     "execution_count": 11,
     "metadata": {},
     "output_type": "execute_result"
    }
   ],
   "source": [
    "# Lastly, you can also check to see the length of a list by running the len function.\n",
    "len(x)"
   ]
  },
  {
   "cell_type": "code",
   "execution_count": null,
   "metadata": {
    "collapsed": true
   },
   "outputs": [],
   "source": [
    "#Tuples on the other hand are immutable. They are immutable lists declared using ()\n",
    "\n",
    "x = (1,2,3)\n",
    "x"
   ]
  },
  {
   "cell_type": "code",
   "execution_count": null,
   "metadata": {
    "collapsed": true
   },
   "outputs": [],
   "source": [
    "# What happens when you append a tuple?\n",
    "x.append(4)"
   ]
  },
  {
   "cell_type": "code",
   "execution_count": 2,
   "metadata": {},
   "outputs": [
    {
     "data": {
      "text/plain": [
       "20"
      ]
     },
     "execution_count": 2,
     "metadata": {},
     "output_type": "execute_result"
    }
   ],
   "source": [
    "# Dictionaries are key value pair stores. These are declared using {}\n",
    "\n",
    "fruits= {'Bananas':10, 'Strawberries':5, 'Pineapple':20}\n",
    "fruits['Pineapple']"
   ]
  },
  {
   "cell_type": "code",
   "execution_count": 4,
   "metadata": {},
   "outputs": [
    {
     "data": {
      "text/plain": [
       "{'Apples': 8, 'Bananas': 10, 'Pineapple': 20, 'Strawberries': 5}"
      ]
     },
     "execution_count": 4,
     "metadata": {},
     "output_type": "execute_result"
    }
   ],
   "source": [
    "#Add a dictionary entry very simply\n",
    "\n",
    "fruits['Apples'] = 8\n",
    "fruits"
   ]
  },
  {
   "cell_type": "markdown",
   "metadata": {},
   "source": [
    "\n",
    "## Booleans & Conditionals\n",
    "Booleans are an important part of coding. They are like a switch and can only have two values: True or False. They are very useful in conditional statements that we will be discussing next. But first, "
   ]
  },
  {
   "cell_type": "code",
   "execution_count": 16,
   "metadata": {},
   "outputs": [
    {
     "data": {
      "text/plain": [
       "False"
      ]
     },
     "execution_count": 16,
     "metadata": {},
     "output_type": "execute_result"
    }
   ],
   "source": [
    "x = 11 #Assignment is not the same as the equal to sign in Python\n",
    "x == 6"
   ]
  },
  {
   "cell_type": "code",
   "execution_count": 17,
   "metadata": {},
   "outputs": [
    {
     "data": {
      "text/plain": [
       "True"
      ]
     },
     "execution_count": 17,
     "metadata": {},
     "output_type": "execute_result"
    }
   ],
   "source": [
    "x/5 != 2 "
   ]
  },
  {
   "cell_type": "code",
   "execution_count": 18,
   "metadata": {},
   "outputs": [
    {
     "data": {
      "text/plain": [
       "False"
      ]
     },
     "execution_count": 18,
     "metadata": {},
     "output_type": "execute_result"
    }
   ],
   "source": [
    "x/5.0 ==2 "
   ]
  },
  {
   "cell_type": "code",
   "execution_count": 20,
   "metadata": {},
   "outputs": [
    {
     "name": "stdout",
     "output_type": "stream",
     "text": [
      "13\n"
     ]
    }
   ],
   "source": [
    "#If statements are very useful ways to fork the code. If x is true then you do something, otherwise, \n",
    "#do something else.\n",
    "if x <=20:\n",
    "    x += 2\n",
    "    print x\n",
    "else:\n",
    "    print x"
   ]
  },
  {
   "cell_type": "code",
   "execution_count": null,
   "metadata": {
    "collapsed": true
   },
   "outputs": [],
   "source": [
    "# You can also combine if statements in the following ways:\n",
    "x = 3\n",
    "if x ==1 or x==2:\n",
    "    print \"x is 1 or 2\"\n",
    "else: \n",
    "    print \"x is neither 1 nor 2\""
   ]
  },
  {
   "cell_type": "code",
   "execution_count": null,
   "metadata": {
    "collapsed": true
   },
   "outputs": [],
   "source": [
    "#Another way to use if statements are by adding more clauses using the elif statement. (elif = else-if)\n",
    "x=5\n",
    "if x ==1:\n",
    "    print \"x is 1\"\n",
    "elif x==2:\n",
    "    print \"x is 2\"\n",
    "elif x==3:\n",
    "    print \"x is 3\"\n",
    "else:\n",
    "    print \"x is not 1, 2 or 3\""
   ]
  },
  {
   "cell_type": "markdown",
   "metadata": {},
   "source": [
    "#### Exercise\n",
    "Write a set of conditional statements that check to see if n is divisible whole by 2. If it is, then print \"n is even\". Otherwise, print \"n is odd\". I've started off the code for you below!\n",
    "\n",
    "Hint: % is the modulo operator"
   ]
  },
  {
   "cell_type": "code",
   "execution_count": null,
   "metadata": {
    "collapsed": true
   },
   "outputs": [],
   "source": [
    "n = int(raw_input(\"Enter a number: \")) # This command simply asks the user to enter an integer value first \n",
    "# Add your conditionals below    \n"
   ]
  },
  {
   "cell_type": "markdown",
   "metadata": {},
   "source": [
    "## Loops\n",
    "\n",
    "Loops are a very useful way of repeating something over and over again, with some conditionals on when to break them.There are two kinds of loops: for and while. \n",
    "For loops are usually used for iterating through lists and doing something with every iteration.\n",
    "While loops are often used to accumulate additions in a variable. \n"
   ]
  },
  {
   "cell_type": "code",
   "execution_count": null,
   "metadata": {
    "collapsed": true
   },
   "outputs": [],
   "source": [
    "# An example of the for-loop. Iterate through the numbers 1-11. What do you think this function does?\n",
    "x = [1,2,3,4,5,6,7,8,9,10]\n",
    "\n",
    "for i in x:\n",
    "    if i % 2 == 0: \n",
    "        print i"
   ]
  },
  {
   "cell_type": "code",
   "execution_count": null,
   "metadata": {
    "collapsed": true
   },
   "outputs": [],
   "source": [
    "for i in \"string\":\n",
    "    print i "
   ]
  },
  {
   "cell_type": "code",
   "execution_count": 26,
   "metadata": {},
   "outputs": [
    {
     "name": "stdout",
     "output_type": "stream",
     "text": [
      "The count is:  0\n",
      "The count is:  1\n",
      "The count is:  2\n",
      "The count is:  3\n",
      "The count is:  4\n",
      "The count is:  5\n",
      "The count is:  6\n",
      "The count is:  7\n",
      "The count is:  8\n",
      "The count is:  9\n"
     ]
    }
   ],
   "source": [
    "count = 0 #While loops are different! You need to make sure that you break them. \n",
    "\n",
    "while count < 10:\n",
    "    print \"The count is: \",count\n",
    "    count += 1"
   ]
  },
  {
   "cell_type": "code",
   "execution_count": 24,
   "metadata": {},
   "outputs": [
    {
     "name": "stdout",
     "output_type": "stream",
     "text": [
      "10\n",
      "9\n",
      "8\n",
      "7\n",
      "6\n",
      "5\n",
      "4\n",
      "3\n",
      "2\n",
      "1\n",
      "Launch!\n"
     ]
    }
   ],
   "source": [
    "#An example of a while loop going backwards\n",
    "count = 10\n",
    "\n",
    "while count >0:\n",
    "    print count\n",
    "    count = count -1\n",
    "else: \n",
    "    print \"Launch!\""
   ]
  },
  {
   "cell_type": "markdown",
   "metadata": {
    "collapsed": true
   },
   "source": [
    "## Functions\n",
    "Functions are an integral part of Python where you can make seperate modules, and call them whenever they are needed. Let's go through the syntax first, and then step-by-step, make a function for finding if a number is a whole square.\n"
   ]
  },
  {
   "cell_type": "code",
   "execution_count": null,
   "metadata": {
    "collapsed": true
   },
   "outputs": [],
   "source": [
    "from math import sqrt\n",
    "\n",
    "def whole_square_checker(n): #sqrt is the name, and it takes an argument, n\n",
    "    if sqrt(n).is_integer()==True: #Line checks whether sqrt(n) is an integer by calling the built in is_integer func\n",
    "        print \"n is a whole square, and its square root is\",sqrt(n)\n",
    "    else:\n",
    "        print \"n is not a whole square\"\n",
    "        \n",
    "whole_square_checker(100)"
   ]
  },
  {
   "cell_type": "markdown",
   "metadata": {},
   "source": [
    "The return command is also very important to use with functions. It can be passed into other functions to solve more complicated issues.\n",
    "\n",
    "Below, let's make a function that will return the number of whole squares between any 1, and a number the user provides. This will use our whole_square_checker function, though we will have to modify it first. "
   ]
  },
  {
   "cell_type": "code",
   "execution_count": 8,
   "metadata": {},
   "outputs": [
    {
     "name": "stdout",
     "output_type": "stream",
     "text": [
      "Enter the end of your range: 100\n",
      "[1, 4, 9, 16, 25, 36, 49, 64, 81]\n"
     ]
    }
   ],
   "source": [
    "from math import *\n",
    "def whole_square_check(n): #Change the name from the function above a little\n",
    "    if sqrt(n).is_integer() == True: \n",
    "        return True\n",
    "    else:\n",
    "        return False\n",
    "    \n",
    "l = []    \n",
    "def whole_squares_in(x):\n",
    "    for i in range(1,x):\n",
    "        if whole_square_check(i) == True:\n",
    "           l.append(i)\n",
    "    return l\n",
    "\n",
    "x = int(raw_input(\"Enter the end of your range: \"))\n",
    "\n",
    "\n",
    "print whole_squares_in(x)"
   ]
  },
  {
   "cell_type": "markdown",
   "metadata": {},
   "source": [
    "\n",
    "### Exercises\n",
    "\n",
    "a. Construct a function that returns all the divisors of the number the user inputs as a list.\n",
    "\n",
    "\n",
    "b. **Challenge:** Write a function for finding out the factorial of a number that the user inputs. "
   ]
  },
  {
   "cell_type": "code",
   "execution_count": null,
   "metadata": {
    "collapsed": true
   },
   "outputs": [],
   "source": [
    "list = []\n",
    "def divisable(x):\n",
    "    count = 0\n",
    "    while count<x:\n",
    "        count = count + 1\n",
    "        if x % count == 0:\n",
    "            list.append(count)\n",
    "    return list\n",
    "    \n",
    "x = int(raw_input(\"Enter the end of your range: \"))\n",
    "print divisable(x)"
   ]
  },
  {
   "cell_type": "code",
   "execution_count": 1,
   "metadata": {},
   "outputs": [
    {
     "name": "stdout",
     "output_type": "stream",
     "text": [
      "Enter the end of your range: 7\n",
      "5040\n"
     ]
    }
   ],
   "source": [
    "def factorial(x):\n",
    "    factor = x\n",
    "    while x > 1:\n",
    "        x = x -1 \n",
    "        factor = factor * x\n",
    "    return factor\n",
    "        \n",
    "x = int(raw_input(\"Enter the end of your range: \"))\n",
    "print factorial(x)"
   ]
  },
  {
   "cell_type": "code",
   "execution_count": 27,
   "metadata": {},
   "outputs": [
    {
     "data": {
      "text/plain": [
       "'Take an input from the user. Write a function that returns a list of all primes between 1 and that number'"
      ]
     },
     "execution_count": 27,
     "metadata": {},
     "output_type": "execute_result"
    }
   ],
   "source": [
    "\"\"\"Take an input from the user. Write a function that returns a list of all primes between 1 and that number\"\"\""
   ]
  },
  {
   "cell_type": "code",
   "execution_count": 3,
   "metadata": {},
   "outputs": [
    {
     "name": "stdout",
     "output_type": "stream",
     "text": [
      "Enter the end of your range: 9\n",
      "these are the prime numbers:  this is num: 1\n",
      "1 is prime true... appending:1\n",
      "this is num: 2\n",
      "2 is prime true... appending:2\n",
      "this is num: 3\n",
      "dividing num = 3 with i = 2\n",
      "3 is prime true... appending:3\n",
      "this is num: 4\n",
      "dividing num = 4 with i = 2\n",
      "it is divisable and prime is set to false\n",
      "this is num: 5\n",
      "dividing num = 5 with i = 2\n",
      "dividing num = 5 with i = 3\n",
      "dividing num = 5 with i = 4\n",
      "5 is prime true... appending:5\n",
      "this is num: 6\n",
      "dividing num = 6 with i = 2\n",
      "it is divisable and prime is set to false\n",
      "this is num: 7\n",
      "dividing num = 7 with i = 2\n",
      "dividing num = 7 with i = 3\n",
      "dividing num = 7 with i = 4\n",
      "dividing num = 7 with i = 5\n",
      "dividing num = 7 with i = 6\n",
      "7 is prime true... appending:7\n",
      "this is num: 8\n",
      "dividing num = 8 with i = 2\n",
      "it is divisable and prime is set to false\n",
      "this is num: 9\n",
      "dividing num = 9 with i = 2\n",
      "dividing num = 9 with i = 3\n",
      "it is divisable and prime is set to false\n",
      "[1, 2, 3, 5, 7]\n"
     ]
    }
   ],
   "source": [
    "# get rid of the hash# to see how program is ran\n",
    "\n",
    "list = []\n",
    "def prime(x):\n",
    "    for num in range(1,x+1):\n",
    "        #print \"this is num: \"+ str(num)\n",
    "        prime = True\n",
    "        for i in range(2,num):\n",
    "            #print \"dividing num = \"+ str(num)+\" with i = \" + str(i)\n",
    "            if (num%i==0):\n",
    "                #print \"it is divisable and prime is set to false\"\n",
    "                prime = False\n",
    "                break\n",
    "        if prime:\n",
    "            #print str(num) +\" is prime true... appending:\"+ str(num)\n",
    "            list.append(num)\n",
    "    return list\n",
    "\n",
    "x = int(raw_input(\"Enter the end of your range: \"))\n",
    "\n",
    "print \"these are the prime numbers: \", str(prime(x))"
   ]
  },
  {
   "cell_type": "markdown",
   "metadata": {},
   "source": [
    "list= []\n",
    "def prime(num):\n",
    "    for num in range(1,num):\n",
    "        prime = True\n",
    "        for i in range(2,num):\n",
    "            if (num%i==0):\n",
    "                prime = False\n",
    "        if prime:\n",
    "           print num\n",
    "num = int(raw_input(\"Enter the end of your range: \"))\n",
    "print prime(num)"
   ]
  },
  {
   "cell_type": "code",
   "execution_count": null,
   "metadata": {
    "collapsed": true
   },
   "outputs": [],
   "source": []
  },
  {
   "cell_type": "code",
   "execution_count": null,
   "metadata": {
    "collapsed": true
   },
   "outputs": [],
   "source": []
  },
  {
   "cell_type": "code",
   "execution_count": null,
   "metadata": {
    "collapsed": true
   },
   "outputs": [],
   "source": []
  }
 ],
 "metadata": {
  "anaconda-cloud": {},
  "kernelspec": {
   "display_name": "Python 2",
   "language": "python",
   "name": "python2"
  },
  "language_info": {
   "codemirror_mode": {
    "name": "ipython",
    "version": 2
   },
   "file_extension": ".py",
   "mimetype": "text/x-python",
   "name": "python",
   "nbconvert_exporter": "python",
   "pygments_lexer": "ipython2",
   "version": "2.7.13"
  }
 },
 "nbformat": 4,
 "nbformat_minor": 1
}
